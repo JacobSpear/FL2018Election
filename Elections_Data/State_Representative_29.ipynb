{
 "cells": [
  {
   "cell_type": "code",
   "execution_count": 59,
   "metadata": {},
   "outputs": [],
   "source": [
    "import pandas as pd\n",
    "import numpy as np\n",
    "from scipy.stats import linregress\n",
    "import matplotlib.pyplot as plt\n",
    "import os\n",
    "from result_totals import plot_results\n",
    "import requests\n",
    "from config import google_key\n",
    "import matplotlib.pyplot as plt\n",
    "import numpy as np\n",
    "import scipy.stats as sts\n",
    "\n",
    "def import_data():\n",
    "    global file_path \n",
    "    file_path = os.path.join(\"CSVs\",'election_data_clean.csv')\n",
    "    global elec_data\n",
    "    elec_data = pd.read_csv(file_path,index_col=0,dtype = {3:str,4:str})\n",
    "    global contests \n",
    "    contests = elec_data.groupby('Contest Code')\n",
    "    global precincts\n",
    "    precincts = elec_data.groupby('Precinct_Full_ID')\n",
    "    \n",
    "\n",
    "import_data()\n"
   ]
  },
  {
   "cell_type": "code",
   "execution_count": 2,
   "metadata": {},
   "outputs": [
    {
     "name": "stderr",
     "output_type": "stream",
     "text": [
      "C:\\Users\\spear_000\\Anaconda3\\lib\\site-packages\\pandas\\core\\indexing.py:1418: PerformanceWarning: indexing past lexsort depth may impact performance.\n",
      "  return self._getitem_tuple(key)\n"
     ]
    }
   ],
   "source": [
    "results = plot_results(contest_name='State Representative',district=29,by_Precinct=True)['Response']\n",
    "data = results['Data']\n",
    "dist_29_precincts = [precincts.get_group(doc['scope'])['Precinct Polling Location'].unique()[0].split(' ',maxsplit=1) for doc in data]"
   ]
  },
  {
   "cell_type": "code",
   "execution_count": 25,
   "metadata": {},
   "outputs": [],
   "source": [
    "place_url = 'https://maps.googleapis.com/maps/api/place/findplacefromtext/json?'\n",
    "details_url = 'https://maps.googleapis.com/maps/api/place/details/json?'\n"
   ]
  },
  {
   "cell_type": "code",
   "execution_count": 33,
   "metadata": {},
   "outputs": [],
   "source": [
    "pct_locations = []\n",
    "for i in range(len(dist_29_precincts)):\n",
    "    url= place_url + f'input={dist_29_precincts[i][1]}' + '&'+ 'inputtype=textquery' +'&' + f'key={google_key}'\n",
    "    place_id = requests.get(url).json()['candidates'][0]['place_id']\n",
    "    search_url = details_url + f'place_id={place_id}' +'&' + f'key={google_key}'\n",
    "    response = requests.get(search_url).json()\n",
    "    pct_locations.append({dist_29_precincts[i][0]:{'name':response['result']['name'],'location': response['result']['geometry']['location']}})"
   ]
  },
  {
   "cell_type": "code",
   "execution_count": 74,
   "metadata": {},
   "outputs": [
    {
     "name": "stdout",
     "output_type": "stream",
     "text": [
      "001:Seminole Community Church = {'lat': 28.82695199999999, 'lng': -81.349542}\n",
      "002:Lighthouse Baptist Church = {'lat': 28.83761599999999, 'lng': -81.635543}\n",
      "003:Crossings Community Church = {'lat': 28.8048119, 'lng': -81.36462990000001}\n",
      "004:Safeharbor Christian Church = {'lat': 28.7970234, 'lng': -81.3171478}\n",
      "005:Westview Baptist Church = {'lat': 28.7873947, 'lng': -81.3241384}\n",
      "006:Westside Community Center/ Boys And Girls Center = {'lat': 28.8036252, 'lng': -81.28848839999999}\n",
      "007:Markham Woods Presbyterian Church = {'lat': 28.7755855, 'lng': -81.3818155}\n",
      "008:Courtyard by Marriott Orlando Lake Mary/North = {'lat': 28.757089, 'lng': -81.36665699999999}\n",
      "009:Holy Cross Lake Mary = {'lat': 28.7575806, 'lng': -81.3533444}\n",
      "010:The Lake Mary Events Center = {'lat': 28.76215, 'lng': -81.3230639}\n",
      "011:Florida Department of Health in Seminole County - Sanford Location = {'lat': 28.7739106, 'lng': -81.2852905}\n",
      "012:Markham Woods Seventh-day Adventist Church = {'lat': 28.7032167, 'lng': -81.3850056}\n",
      "013:The Church of Jesus Christ of Latter-day Saints = {'lat': 28.7342808, 'lng': -81.3579929}\n",
      "014:Seminole County Public Library = {'lat': 28.734338, 'lng': -81.339291}\n",
      "015:Nativity Catholic Church = {'lat': 28.72819, 'lng': -81.319706}\n",
      "016:City of Lake Mary City Hall = {'lat': 28.7576799, 'lng': -81.3231826}\n",
      "017:Seminole County Co-Op Ext = {'lat': 28.7423712, 'lng': -81.29944859999999}\n",
      "018:First Baptist Church Of Sweet Springs = {'lat': 38.96331109999999, 'lng': -93.4161096}\n",
      "019:Longwood Community Building = {'lat': 28.6998671, 'lng': -81.34866629999999}\n",
      "020:First Baptist Church of Longwood = {'lat': 28.698875, 'lng': -81.33098199999999}\n",
      "021:West End Neighborhood Library = {'lat': 38.9038978, 'lng': -77.0506151}\n",
      "022:Wekiva Presbyterian Church = {'lat': 28.689027, 'lng': -81.407817}\n",
      "023:Neighborhood Alliance Church = {'lat': 28.6979061, 'lng': -81.3870647}\n",
      "024:WaterStone Church = {'lat': 28.684107, 'lng': -81.356752}\n",
      "025:Congregation Beth El = {'lat': 38.9927514, 'lng': -77.10657189999999}\n",
      "026:First Baptist Church = {'lat': 28.6862566, 'lng': -81.41230929999999}\n",
      "027:Forest Lake Seventh-day Adventist Church = {'lat': 28.670407, 'lng': -81.440534}\n",
      "028:Central Church of Christ = {'lat': 28.674308, 'lng': -81.430365}\n",
      "029:TITLE Boxing Club Winter Park = {'lat': 28.6120917, 'lng': -81.30791219999999}\n",
      "030:St. Stephen Lutheran Church = {'lat': 28.6872342, 'lng': -81.3938242}\n",
      "036:St. Mark's Presbyterian Church = {'lat': 28.682747, 'lng': -81.373066}\n",
      "039:Eastmonte Park = {'lat': 28.656298, 'lng': -81.36025099999999}\n",
      "056:Winter Springs Senior Center = {'lat': 28.7048496, 'lng': -81.3089425}\n"
     ]
    }
   ],
   "source": [
    "for doc in pct_locations:\n",
    "    pct_id = list(doc.keys())[0]\n",
    "    name = doc[pct_id]['name']\n",
    "    location = doc[pct_id]['location']\n",
    "    print(f\"{pct_id}:{name} = {location}\")"
   ]
  },
  {
   "cell_type": "code",
   "execution_count": 79,
   "metadata": {},
   "outputs": [],
   "source": [
    "lat = []\n",
    "lng = []\n",
    "size = []\n",
    "dem = []\n",
    "for x in range(len(data)):\n",
    "    doc = data[x]\n",
    "    pct = list(pct_locations[x].keys())[0]\n",
    "    pct_location = pct_locations[x][pct]['location']\n",
    "    lat.append(pct_location['lat'])\n",
    "    lng.append(pct_location['lng'])\n",
    "    total = sum(doc['y'])\n",
    "    size.append(total)\n",
    "    dem.append(doc['y'][1]/total)\n",
    "    \n",
    "    "
   ]
  },
  {
   "cell_type": "code",
   "execution_count": 197,
   "metadata": {},
   "outputs": [],
   "source": [
    "def zscore(x,x_mean,x_std):\n",
    "    return (x-x_mean)/x_std\n",
    "\n",
    "lat_mean = np.mean(lat)\n",
    "lat_std = np.std(lat)\n",
    "lat_norm = [zscore(x,lat_mean,lat_std) for x in lat]\n",
    "\n",
    "lng_mean = np.mean(lng)\n",
    "lng_std = np.std(lng)\n",
    "lng_norm = [zscore(x,lng_mean,lng_std) for x in lng]\n",
    "\n",
    "size_adj = [75*x for x in size/np.mean(size)]\n",
    "\n",
    "blue = [0,0,1]\n",
    "red = [1,0,0]\n",
    "colors = []\n",
    "\n",
    "dem_adj = [0.5+np.sign((x - 0.5))*(abs(2*((x - 0.5)))**0.6)/2 for x in dem]\n",
    "for r in dem_adj:\n",
    "    blue_part = [float(r)*x for x in blue]\n",
    "    red_part = [float(1-r)*x for x in red]\n",
    "    new_color = [sum(x) for x in zip(blue_part,red_part)]\n",
    "    colors.append(new_color)"
   ]
  },
  {
   "cell_type": "code",
   "execution_count": 202,
   "metadata": {},
   "outputs": [
    {
     "data": {
      "image/png": "[encoded data removed]",
      "text/plain": [
       "<Figure size 432x288 with 1 Axes>"
      ]
     },
     "metadata": {
      "needs_background": "light"
     },
     "output_type": "display_data"
    }
   ],
   "source": [
    "plt.scatter(lat,lng,s=size_adj,c=colors)\n",
    "plt.xlim(lat_mean-0.359*lat_std,lat_mean-0.28*lat_std)\n",
    "plt.ylim(lng_mean,lng_mean+0.1*lng_std)\n",
    "plt.xlabel('Latitude')\n",
    "plt.ylabel('Longitude')\n",
    "plt.title('Polling Places: State House District 29')\n",
    "plt.tight_layout(pad=1.08)\n",
    "plt.savefig(os.path.join('..','docs','Visualizations','SH29_precinct_party_affiliation.png'))\n",
    "plt.show()"
   ]
  },
  {
   "cell_type": "code",
   "execution_count": null,
   "metadata": {},
   "outputs": [],
   "source": []
  },
  {
   "cell_type": "code",
   "execution_count": null,
   "metadata": {},
   "outputs": [],
   "source": [
    "\n"
   ]
  },
  {
   "cell_type": "code",
   "execution_count": null,
   "metadata": {},
   "outputs": [],
   "source": []
  }
 ],
 "metadata": {
  "kernelspec": {
   "display_name": "Python 3",
   "language": "python",
   "name": "python3"
  },
  "language_info": {
   "codemirror_mode": {
    "name": "ipython",
    "version": 3
   },
   "file_extension": ".py",
   "mimetype": "text/x-python",
   "name": "python",
   "nbconvert_exporter": "python",
   "pygments_lexer": "ipython3",
   "version": "3.7.4"
  }
 },
 "nbformat": 4,
 "nbformat_minor": 2
}
