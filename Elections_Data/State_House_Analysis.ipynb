{
 "cells": [
  {
   "cell_type": "code",
   "execution_count": 1,
   "metadata": {},
   "outputs": [
    {
     "name": "stderr",
     "output_type": "stream",
     "text": [
      "C:\\Users\\spear_000\\Anaconda3\\lib\\site-packages\\IPython\\core\\interactiveshell.py:3058: DtypeWarning: Columns (3,4) have mixed types. Specify dtype option on import or set low_memory=False.\n",
      "  interactivity=interactivity, compiler=compiler, result=result)\n"
     ]
    }
   ],
   "source": [
    "import pandas as pd\n",
    "import numpy as np\n",
    "from scipy.stats import linregress\n",
    "import matplotlib.pyplot as plt\n",
    "import os\n",
    "\n",
    "file_path = os.path.join(\"CSVs\",'election_data_clean.csv')\n",
    "elec_data= pd.read_csv(file_path,index_col=0)\n",
    "\n",
    "elections = elec_data.groupby(\"Contest Name\")"
   ]
  },
  {
   "cell_type": "code",
   "execution_count": 2,
   "metadata": {},
   "outputs": [],
   "source": [
    "state_house = elections.get_group('State Representative')\n",
    "house_gb = state_house.groupby(\"District\")"
   ]
  },
  {
   "cell_type": "code",
   "execution_count": 3,
   "metadata": {},
   "outputs": [],
   "source": [
    "#STATE_HOUSE_ANALYZE Function: Compiles results (by percentage) in each state house race\n",
    "def sh_analyze(District):\n",
    "    missing_data = []\n",
    "    sh_n = house_gb.get_group(f\" District {District}\")\n",
    "    gb_n = sh_n.groupby('Precinct Number')\n",
    "    gb_n_keys = gb_n.groups.keys()\n",
    "    my_data = {'Precinct Number':[],\n",
    "               'Registered Republican %':[],\n",
    "               'Registered Democrat %':[],\n",
    "               'Registered Other %':[],\n",
    "               'Total Registered':[],\n",
    "               'Dem Vote %':[],\n",
    "               'Repub Vote %':[],\n",
    "               'Total_Votes':[]}\n",
    "    for precinct in gb_n_keys:\n",
    "        data = gb_n.get_group(precinct)\n",
    "        total_registered = float(data['Total Registered'].tolist()[0])\n",
    "        try:\n",
    "            dems=float(data[data['Party']=='DEM'][\"Vote Total\"].tolist()[0])\n",
    "        except IndexError:\n",
    "            dems=0\n",
    "        try:\n",
    "            repubs=float(data[data['Party']=='REP'][\"Vote Total\"].tolist()[0])\n",
    "        except IndexError:\n",
    "            repubs=0\n",
    "        if total_registered > 0 and dems+repubs>0:\n",
    "            my_data['Precinct Number'].append(precinct)\n",
    "            my_data['Registered Republican %'].append(100*float(data['Registered Republicans'].tolist()[0])/total_registered)\n",
    "            my_data['Registered Democrat %'].append(100*float(data['Registered Democrats'].tolist()[0])/total_registered)\n",
    "            my_data['Registered Other %'].append(100*float(data['Registered Other'].tolist()[0])/total_registered)\n",
    "            my_data['Total Registered'].append(total_registered)\n",
    "            total = dems+repubs\n",
    "            my_data['Dem Vote %'].append(100*dems/total)\n",
    "            my_data['Repub Vote %'].append(100*repubs/total)\n",
    "            my_data['Total_Votes'].append(total)\n",
    "        elif total_registered == 0:\n",
    "            missing_data.append(f\"Precinct {precinct} has no registered voters\")\n",
    "        elif dems+repubs == 0:\n",
    "            missing_data.append(f\"Precinct {precinct} has no major party votes\")\n",
    "    df = pd.DataFrame(my_data,index=my_data[\"Precinct Number\"])\n",
    "    df['Turnout']=100*df['Total_Votes']/df['Total Registered']\n",
    "    \n",
    "    #We remove precincts with lower than 4 percent turnout as these are typically precincts not in the district\n",
    "    df = df[df['Turnout']>=4]\n",
    "    return [df,missing_data]"
   ]
  },
  {
   "cell_type": "code",
   "execution_count": 7,
   "metadata": {},
   "outputs": [],
   "source": [
    "#Interprets sh_analyze output for each district with a scatterplot of turnout vs. democrats registered\n",
    "def turnout_scatter(District):\n",
    "    df = sh_analyze(District)[0]\n",
    "    plt.scatter(df['Registered Democrat %'],df['Turnout'])\n",
    "    plt.xlabel(\"Percent of Voters Registered as Democrats\")\n",
    "    plt.ylabel(\"Voter Turnout (Percent)\")\n",
    "    plt.title(f\"Voter Turnout vs. Party by Precincts in House District {District}\")\n",
    "    plt.savefig(f\"state_house_district_{District}_turnout\")\n",
    "    plt.show()\n",
    "    print(linregress(df['Registered Democrat %'],df['Turnout']))\n",
    "\n",
    "def turnout_json(District):\n",
    "    df = sh_analyze(District)[0]\n",
    "    df.to_json(os.path.join('..','docs','data',f'SH_District_{District}.json'))"
   ]
  },
  {
   "cell_type": "code",
   "execution_count": 5,
   "metadata": {},
   "outputs": [],
   "source": [
    "#Determines the result if turnout by district had been proportional to district size\n",
    "def proportional_vote(District):\n",
    "    district_sh_df = sh_analyze(District)[0]\n",
    "    dem_hyp = (district_sh_df['Dem Vote %']/100*district_sh_df['Total Registered']).sum()\n",
    "    repub_hyp = (district_sh_df['Repub Vote %']/100*district_sh_df['Total Registered']).sum()\n",
    "    return round(dem_hyp/(dem_hyp+repub_hyp)*100,4)\n",
    "\n",
    "#Determines the actual election result\n",
    "def actual_vote(District):\n",
    "    district_sh_df = sh_analyze(District)[0]\n",
    "    dem_act = (district_sh_df['Dem Vote %']/100*district_sh_df['Total_Votes']).sum()\n",
    "    repub_act = (district_sh_df['Repub Vote %']/100*district_sh_df['Total_Votes']).sum()\n",
    "    return round(dem_act/(dem_act+repub_act)*100,4)"
   ]
  },
  {
   "cell_type": "code",
   "execution_count": 8,
   "metadata": {},
   "outputs": [],
   "source": [
    "for x in range(27,31):\n",
    "    turnout_json(x)\n",
    "\n"
   ]
  },
  {
   "cell_type": "code",
   "execution_count": null,
   "metadata": {},
   "outputs": [],
   "source": []
  }
 ],
 "metadata": {
  "kernelspec": {
   "display_name": "Python 3",
   "language": "python",
   "name": "python3"
  },
  "language_info": {
   "codemirror_mode": {
    "name": "ipython",
    "version": 3
   },
   "file_extension": ".py",
   "mimetype": "text/x-python",
   "name": "python",
   "nbconvert_exporter": "python",
   "pygments_lexer": "ipython3",
   "version": "3.7.4"
  }
 },
 "nbformat": 4,
 "nbformat_minor": 2
}
