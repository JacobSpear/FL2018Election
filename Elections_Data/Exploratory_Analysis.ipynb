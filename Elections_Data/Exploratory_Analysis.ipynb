{
 "cells": [
  {
   "cell_type": "code",
   "execution_count": 1,
   "metadata": {},
   "outputs": [],
   "source": [
    "import pandas as pd\n",
    "import numpy as np\n",
    "from scipy.stats import linregress\n",
    "import matplotlib.pyplot as plt"
   ]
  },
  {
   "cell_type": "code",
   "execution_count": 2,
   "metadata": {},
   "outputs": [
    {
     "name": "stderr",
     "output_type": "stream",
     "text": [
      "C:\\Users\\spear_000\\Anaconda3\\envs\\PythonData\\lib\\site-packages\\IPython\\core\\interactiveshell.py:3050: DtypeWarning: Columns (3) have mixed types. Specify dtype option on import or set low_memory=False.\n",
      "  has_raised = await self.run_ast_nodes(code_ast.body, cell_name,\n"
     ]
    }
   ],
   "source": [
    "#elec_data_all = pd.read_csv('election_data_clean.csv',index_col=0)\n",
    "#elec_data = elec_data_all[elec_data_all['County Code'].isin(['SEM','VOL'])]\n",
    "elec_data= pd.read_csv('election_data_clean.csv',index_col=0)"
   ]
  },
  {
   "cell_type": "code",
   "execution_count": 3,
   "metadata": {},
   "outputs": [],
   "source": [
    "elections = elec_data.groupby(\"Contest Name\")"
   ]
  },
  {
   "cell_type": "code",
   "execution_count": 4,
   "metadata": {},
   "outputs": [],
   "source": [
    "state_house = elections.get_group('State Representative')\n",
    "house_gb = state_house.groupby(\"District\")"
   ]
  },
  {
   "cell_type": "code",
   "execution_count": 5,
   "metadata": {},
   "outputs": [],
   "source": [
    "def sh_analyze(District):\n",
    "    missing_data = []\n",
    "    sh_n = house_gb.get_group(f\" District {District}\")\n",
    "    gb_n = sh_n.groupby('Precinct Number')\n",
    "    gb_n_keys = gb_n.groups.keys()\n",
    "    my_data = {'Precinct Number':[],\n",
    "               'Registered Republican %':[],\n",
    "               'Registered Democrat %':[],\n",
    "               'Registered Other %':[],\n",
    "               'Total Registered':[],\n",
    "               'Dem Vote %':[],\n",
    "               'Repub Vote %':[],\n",
    "               'Total_Votes':[]}\n",
    "    for precinct in gb_n_keys:\n",
    "        data = gb_n.get_group(precinct)\n",
    "        total_registered = float(data['Total Registered'].tolist()[0])\n",
    "        try:\n",
    "            dems=float(data[data['Party']=='DEM'][\"Vote Total\"].tolist()[0])\n",
    "        except IndexError:\n",
    "            dems=0\n",
    "        try:\n",
    "            repubs=float(data[data['Party']=='REP'][\"Vote Total\"].tolist()[0])\n",
    "        except IndexError:\n",
    "            repubs=0\n",
    "        if total_registered > 0 and dems+repubs>0:\n",
    "            my_data['Precinct Number'].append(precinct)\n",
    "            my_data['Registered Republican %'].append(100*float(data['Registered Republicans'].tolist()[0])/total_registered)\n",
    "            my_data['Registered Democrat %'].append(100*float(data['Registered Democrats'].tolist()[0])/total_registered)\n",
    "            my_data['Registered Other %'].append(100*float(data['Registered Other'].tolist()[0])/total_registered)\n",
    "            my_data['Total Registered'].append(total_registered)\n",
    "            total = dems+repubs\n",
    "            my_data['Dem Vote %'].append(100*dems/total)\n",
    "            my_data['Repub Vote %'].append(100*repubs/total)\n",
    "            my_data['Total_Votes'].append(total)\n",
    "        elif total_registered == 0:\n",
    "            missing_data.append(f\"Precinct {precinct} has no registered voters\")\n",
    "        elif dems+repubs == 0:\n",
    "            missing_data.append(f\"Precinct {precinct} has no major party votes\")\n",
    "    df = pd.DataFrame(my_data,index=my_data[\"Precinct Number\"])\n",
    "    df['Turnout']=100*df['Total_Votes']/df['Total Registered']\n",
    "    \n",
    "    #We remove precincts with lower than 4 percent turnout as these are typically precincts not in the district\n",
    "    df = df[df['Turnout']>=4]\n",
    "    return [df,missing_data]"
   ]
  },
  {
   "cell_type": "code",
   "execution_count": 10,
   "metadata": {},
   "outputs": [],
   "source": [
    "def turnout_scatter(District):\n",
    "    df = sh_analyze(District)[0]\n",
    "    plt.scatter(df['Registered Democrat %'],df['Turnout'])\n",
    "    plt.xlabel(\"Percent of Voters Registered as Democrats\")\n",
    "    plt.ylabel(\"Voter Turnout (Percent)\")\n",
    "    plt.title(f\"Voter Turnout vs. Party by Precincts in House District {District}\")\n",
    "    plt.savefig(f\"state_house_district_{District}_turnout\")\n",
    "    plt.show()\n",
    "    print(linregress(df['Registered Democrat %'],df['Turnout']))\n",
    "   "
   ]
  },
  {
   "cell_type": "code",
   "execution_count": 7,
   "metadata": {},
   "outputs": [],
   "source": [
    "def proportional_vote(District):\n",
    "    district_sh_df = sh_analyze(District)[0]\n",
    "    dem_hyp = (district_sh_df['Dem Vote %']/100*district_sh_df['Total Registered']).sum()\n",
    "    repub_hyp = (district_sh_df['Repub Vote %']/100*district_sh_df['Total Registered']).sum()\n",
    "    return round(dem_hyp/(dem_hyp+repub_hyp)*100,4)\n",
    "\n",
    "def actual_vote(District):\n",
    "    district_sh_df = sh_analyze(District)[0]\n",
    "    dem_act = (district_sh_df['Dem Vote %']/100*district_sh_df['Total_Votes']).sum()\n",
    "    repub_act = (district_sh_df['Repub Vote %']/100*district_sh_df['Total_Votes']).sum()\n",
    "    return round(dem_act/(dem_act+repub_act)*100,4)"
   ]
  },
  {
   "cell_type": "code",
   "execution_count": 8,
   "metadata": {},
   "outputs": [
    {
     "data": {
      "text/plain": [
       "dict_keys([' District 1', ' District 10', ' District 103', ' District 105', ' District 106', ' District 108', ' District 11', ' District 111', ' District 112', ' District 113', ' District 114', ' District 115', ' District 116', ' District 118', ' District 119', ' District 12', ' District 120', ' District 15', ' District 16', ' District 17', ' District 19', ' District 21', ' District 22', ' District 23', ' District 24', ' District 25', ' District 26', ' District 27', ' District 28', ' District 29', ' District 3', ' District 30', ' District 31', ' District 32', ' District 33', ' District 34', ' District 35', ' District 36', ' District 37', ' District 38', ' District 39', ' District 4', ' District 40', ' District 42', ' District 44', ' District 47', ' District 48', ' District 49', ' District 50', ' District 51', ' District 52', ' District 53', ' District 54', ' District 55', ' District 56', ' District 57', ' District 58', ' District 59', ' District 6', ' District 60', ' District 61', ' District 63', ' District 64', ' District 65', ' District 66', ' District 67', ' District 69', ' District 71', ' District 72', ' District 73', ' District 74', ' District 76', ' District 77', ' District 78', ' District 79', ' District 80', ' District 82', ' District 83', ' District 84', ' District 85', ' District 86', ' District 87', ' District 89', ' District 93', ' District 98'])"
      ]
     },
     "execution_count": 8,
     "metadata": {},
     "output_type": "execute_result"
    }
   ],
   "source": [
    "house_gb.groups.keys()"
   ]
  },
  {
   "cell_type": "code",
   "execution_count": 9,
   "metadata": {},
   "outputs": [
    {
     "name": "stdout",
     "output_type": "stream",
     "text": [
      "In district 1, democrats got 39.2184% of the vote. Had precincts voted proportionally, they would have gotten 39.8744%\n",
      "KeyError District 2\n",
      "In district 3, democrats got 0.0% of the vote. Had precincts voted proportionally, they would have gotten 0.0%\n",
      "In district 4, democrats got 27.8709% of the vote. Had precincts voted proportionally, they would have gotten 28.4708%\n",
      "KeyError District 5\n",
      "In district 6, democrats got 0.0% of the vote. Had precincts voted proportionally, they would have gotten 0.0%\n",
      "KeyError District 7\n",
      "KeyError District 8\n",
      "KeyError District 9\n",
      "In district 10, democrats got 24.7237% of the vote. Had precincts voted proportionally, they would have gotten 25.5509%\n",
      "In district 11, democrats got 30.2657% of the vote. Had precincts voted proportionally, they would have gotten 30.3695%\n",
      "In district 12, democrats got 40.7737% of the vote. Had precincts voted proportionally, they would have gotten 41.373%\n",
      "KeyError District 13\n",
      "KeyError District 14\n",
      "In district 15, democrats got 49.0878% of the vote. Had precincts voted proportionally, they would have gotten 48.5719%\n",
      "In district 16, democrats got 41.4591% of the vote. Had precincts voted proportionally, they would have gotten 42.5666%\n",
      "In district 17, democrats got 0.0% of the vote. Had precincts voted proportionally, they would have gotten 0.0%\n",
      "KeyError District 18\n",
      "In district 19, democrats got 27.5345% of the vote. Had precincts voted proportionally, they would have gotten 28.109%\n",
      "KeyError District 20\n",
      "In district 21, democrats got 48.5735% of the vote. Had precincts voted proportionally, they would have gotten 48.7436%\n",
      "In district 22, democrats got 35.8249% of the vote. Had precincts voted proportionally, they would have gotten 36.3267%\n",
      "In district 23, democrats got 33.9593% of the vote. Had precincts voted proportionally, they would have gotten 34.4299%\n",
      "In district 24, democrats got 38.9547% of the vote. Had precincts voted proportionally, they would have gotten 39.2409%\n",
      "In district 25, democrats got 39.9317% of the vote. Had precincts voted proportionally, they would have gotten 39.7909%\n",
      "In district 26, democrats got 49.9673% of the vote. Had precincts voted proportionally, they would have gotten 50.922%\n",
      "In district 27, democrats got 44.4191% of the vote. Had precincts voted proportionally, they would have gotten 44.8501%\n",
      "In district 28, democrats got 48.6475% of the vote. Had precincts voted proportionally, they would have gotten 49.2518%\n",
      "In district 29, democrats got 48.9628% of the vote. Had precincts voted proportionally, they would have gotten 50.0662%\n",
      "In district 30, democrats got 52.8494% of the vote. Had precincts voted proportionally, they would have gotten 53.8533%\n",
      "In district 31, democrats got 38.8898% of the vote. Had precincts voted proportionally, they would have gotten 39.6881%\n",
      "In district 32, democrats got 43.517% of the vote. Had precincts voted proportionally, they would have gotten 44.3063%\n",
      "In district 33, democrats got 30.4904% of the vote. Had precincts voted proportionally, they would have gotten 30.7466%\n",
      "In district 34, democrats got 30.7132% of the vote. Had precincts voted proportionally, they would have gotten 30.803%\n",
      "In district 35, democrats got 38.6318% of the vote. Had precincts voted proportionally, they would have gotten 38.9348%\n",
      "In district 36, democrats got 41.2735% of the vote. Had precincts voted proportionally, they would have gotten 41.6784%\n",
      "In district 37, democrats got 39.5316% of the vote. Had precincts voted proportionally, they would have gotten 39.537%\n",
      "In district 38, democrats got 0.0% of the vote. Had precincts voted proportionally, they would have gotten 0.0%\n",
      "In district 39, democrats got 41.8479% of the vote. Had precincts voted proportionally, they would have gotten 42.5476%\n",
      "In district 40, democrats got 42.3621% of the vote. Had precincts voted proportionally, they would have gotten 43.8325%\n",
      "KeyError District 41\n",
      "In district 42, democrats got 45.2414% of the vote. Had precincts voted proportionally, they would have gotten 47.061%\n",
      "KeyError District 43\n",
      "In district 44, democrats got 51.3143% of the vote. Had precincts voted proportionally, they would have gotten 52.7434%\n",
      "KeyError District 45\n",
      "KeyError District 46\n",
      "In district 47, democrats got 57.3056% of the vote. Had precincts voted proportionally, they would have gotten 58.0265%\n",
      "In district 48, democrats got 73.3781% of the vote. Had precincts voted proportionally, they would have gotten 73.5796%\n",
      "In district 49, democrats got 64.226% of the vote. Had precincts voted proportionally, they would have gotten 64.6737%\n",
      "In district 50, democrats got 44.6863% of the vote. Had precincts voted proportionally, they would have gotten 45.4799%\n",
      "In district 51, democrats got 42.2683% of the vote. Had precincts voted proportionally, they would have gotten 42.6946%\n",
      "In district 52, democrats got 36.2993% of the vote. Had precincts voted proportionally, they would have gotten 36.6288%\n",
      "In district 53, democrats got 44.9202% of the vote. Had precincts voted proportionally, they would have gotten 45.451%\n",
      "In district 54, democrats got 36.6281% of the vote. Had precincts voted proportionally, they would have gotten 37.4027%\n",
      "In district 55, democrats got 31.7076% of the vote. Had precincts voted proportionally, they would have gotten 32.0017%\n",
      "In district 56, democrats got 0.0% of the vote. Had precincts voted proportionally, they would have gotten 0.0%\n",
      "In district 57, democrats got 44.7323% of the vote. Had precincts voted proportionally, they would have gotten 45.5505%\n",
      "In district 58, democrats got 45.503% of the vote. Had precincts voted proportionally, they would have gotten 46.0069%\n",
      "In district 59, democrats got 51.4778% of the vote. Had precincts voted proportionally, they would have gotten 52.0756%\n",
      "In district 60, democrats got 47.7246% of the vote. Had precincts voted proportionally, they would have gotten 48.468%\n",
      "In district 61, democrats got 100.0% of the vote. Had precincts voted proportionally, they would have gotten 100.0%\n",
      "KeyError District 62\n",
      "In district 63, democrats got 53.4474% of the vote. Had precincts voted proportionally, they would have gotten 54.7552%\n",
      "In district 64, democrats got 46.4147% of the vote. Had precincts voted proportionally, they would have gotten 46.7154%\n",
      "In district 65, democrats got 40.7017% of the vote. Had precincts voted proportionally, they would have gotten 40.8875%\n",
      "In district 66, democrats got 43.1608% of the vote. Had precincts voted proportionally, they would have gotten 44.0898%\n",
      "In district 67, democrats got 46.0432% of the vote. Had precincts voted proportionally, they would have gotten 46.5438%\n",
      "KeyError District 68\n",
      "In district 69, democrats got 52.7081% of the vote. Had precincts voted proportionally, they would have gotten 53.1256%\n",
      "KeyError District 70\n",
      "In district 71, democrats got 44.4081% of the vote. Had precincts voted proportionally, they would have gotten 44.9396%\n",
      "In district 72, democrats got 51.0265% of the vote. Had precincts voted proportionally, they would have gotten 51.3126%\n",
      "In district 73, democrats got 38.1274% of the vote. Had precincts voted proportionally, they would have gotten 38.2426%\n",
      "In district 74, democrats got 41.5743% of the vote. Had precincts voted proportionally, they would have gotten 41.6316%\n",
      "KeyError District 75\n",
      "In district 76, democrats got 35.5102% of the vote. Had precincts voted proportionally, they would have gotten 35.9069%\n",
      "In district 77, democrats got 36.5688% of the vote. Had precincts voted proportionally, they would have gotten 37.0286%\n",
      "In district 78, democrats got 40.6544% of the vote. Had precincts voted proportionally, they would have gotten 42.8161%\n",
      "In district 79, democrats got 41.0748% of the vote. Had precincts voted proportionally, they would have gotten 43.2222%\n",
      "In district 80, democrats got 36.9536% of the vote. Had precincts voted proportionally, they would have gotten 37.7649%\n",
      "KeyError District 81\n",
      "In district 82, democrats got 37.8709% of the vote. Had precincts voted proportionally, they would have gotten 38.3051%\n",
      "In district 83, democrats got 47.8881% of the vote. Had precincts voted proportionally, they would have gotten 48.1341%\n",
      "In district 84, democrats got 51.4302% of the vote. Had precincts voted proportionally, they would have gotten 52.6283%\n"
     ]
    },
    {
     "name": "stdout",
     "output_type": "stream",
     "text": [
      "In district 85, democrats got 45.388% of the vote. Had precincts voted proportionally, they would have gotten 45.8756%\n",
      "In district 86, democrats got 59.824% of the vote. Had precincts voted proportionally, they would have gotten 60.495%\n",
      "In district 87, democrats got 100.0% of the vote. Had precincts voted proportionally, they would have gotten 100.0%\n",
      "KeyError District 88\n",
      "In district 89, democrats got 49.9796% of the vote. Had precincts voted proportionally, they would have gotten 50.6843%\n",
      "KeyError District 90\n",
      "KeyError District 91\n",
      "KeyError District 92\n",
      "In district 93, democrats got 46.3959% of the vote. Had precincts voted proportionally, they would have gotten 46.8922%\n",
      "KeyError District 94\n",
      "KeyError District 95\n",
      "KeyError District 96\n",
      "KeyError District 97\n",
      "In district 98, democrats got 64.043% of the vote. Had precincts voted proportionally, they would have gotten 64.3779%\n",
      "KeyError District 99\n",
      "KeyError District 100\n",
      "KeyError District 101\n",
      "KeyError District 102\n",
      "In district 103, democrats got 53.1625% of the vote. Had precincts voted proportionally, they would have gotten 53.0604%\n",
      "KeyError District 104\n",
      "In district 105, democrats got 49.4958% of the vote. Had precincts voted proportionally, they would have gotten 49.7443%\n",
      "In district 106, democrats got 33.5083% of the vote. Had precincts voted proportionally, they would have gotten 34.1448%\n",
      "KeyError District 107\n",
      "In district 108, democrats got 100.0% of the vote. Had precincts voted proportionally, they would have gotten 100.0%\n",
      "KeyError District 109\n",
      "KeyError District 110\n",
      "In district 111, democrats got 37.347% of the vote. Had precincts voted proportionally, they would have gotten 37.5895%\n",
      "In district 112, democrats got 57.5504% of the vote. Had precincts voted proportionally, they would have gotten 57.234%\n",
      "In district 113, democrats got 62.488% of the vote. Had precincts voted proportionally, they would have gotten 62.5568%\n",
      "In district 114, democrats got 52.7075% of the vote. Had precincts voted proportionally, they would have gotten 52.6214%\n",
      "In district 115, democrats got 49.629% of the vote. Had precincts voted proportionally, they would have gotten 49.7182%\n",
      "In district 116, democrats got 43.4094% of the vote. Had precincts voted proportionally, they would have gotten 44.4451%\n",
      "KeyError District 117\n",
      "In district 118, democrats got 49.4005% of the vote. Had precincts voted proportionally, they would have gotten 49.4155%\n",
      "In district 119, democrats got 44.3308% of the vote. Had precincts voted proportionally, they would have gotten 44.8302%\n",
      "In district 120, democrats got 47.0701% of the vote. Had precincts voted proportionally, they would have gotten 48.0952%\n"
     ]
    }
   ],
   "source": [
    "for n in range(1,121):\n",
    "    try:\n",
    "        print((f\"In district {n}, democrats got {actual_vote(n)}% of the vote. \"+\n",
    "               f\"Had precincts voted proportionally, they would have gotten {proportional_vote(n)}%\"))\n",
    "    except KeyError:\n",
    "        print(f\"KeyError District {n}\")\n",
    "    except IndexError:\n",
    "        print(f\"IndexError District {n}\")"
   ]
  },
  {
   "cell_type": "code",
   "execution_count": 13,
   "metadata": {},
   "outputs": [
    {
     "data": {
      "image/png": "[encoded data removed]",
      "text/plain": [
       "<Figure size 432x288 with 1 Axes>"
      ]
     },
     "metadata": {
      "needs_background": "light"
     },
     "output_type": "display_data"
    },
    {
     "name": "stdout",
     "output_type": "stream",
     "text": [
      "LinregressResult(slope=-0.524355545354532, intercept=70.99168001685511, rvalue=-0.2904839446173127, pvalue=0.07685755349173003, stderr=0.28787894205660586)\n"
     ]
    },
    {
     "data": {
      "image/png": "[encoded data removed]",
      "text/plain": [
       "<Figure size 432x288 with 1 Axes>"
      ]
     },
     "metadata": {
      "needs_background": "light"
     },
     "output_type": "display_data"
    },
    {
     "name": "stdout",
     "output_type": "stream",
     "text": [
      "LinregressResult(slope=-0.4608021100471281, intercept=79.44822484557109, rvalue=-0.7013939176808254, pvalue=7.749315218068044e-06, stderr=0.08549556742783053)\n"
     ]
    },
    {
     "data": {
      "image/png": "[encoded data removed]",
      "text/plain": [
       "<Figure size 432x288 with 1 Axes>"
      ]
     },
     "metadata": {
      "needs_background": "light"
     },
     "output_type": "display_data"
    },
    {
     "name": "stdout",
     "output_type": "stream",
     "text": [
      "LinregressResult(slope=-0.7546920652096368, intercept=89.92967074982309, rvalue=-0.8633274240704901, pvalue=8.261795856314426e-10, stderr=0.08336821623171317)\n"
     ]
    },
    {
     "data": {
      "image/png": "[encoded data removed]",
      "text/plain": [
       "<Figure size 432x288 with 1 Axes>"
      ]
     },
     "metadata": {
      "needs_background": "light"
     },
     "output_type": "display_data"
    },
    {
     "name": "stdout",
     "output_type": "stream",
     "text": [
      "LinregressResult(slope=-0.7103156313910058, intercept=89.2498236707009, rvalue=-0.6072970404540003, pvalue=0.00017846974253604153, stderr=0.16689738037463622)\n"
     ]
    }
   ],
   "source": [
    "for i in range(27,31):\n",
    "    turnout_scatter(i)"
   ]
  },
  {
   "cell_type": "code",
   "execution_count": null,
   "metadata": {},
   "outputs": [],
   "source": []
  },
  {
   "cell_type": "code",
   "execution_count": null,
   "metadata": {},
   "outputs": [],
   "source": []
  }
 ],
 "metadata": {
  "kernelspec": {
   "display_name": "Python 3",
   "language": "python",
   "name": "python3"
  },
  "language_info": {
   "codemirror_mode": {
    "name": "ipython",
    "version": 3
   },
   "file_extension": ".py",
   "mimetype": "text/x-python",
   "name": "python",
   "nbconvert_exporter": "python",
   "pygments_lexer": "ipython3",
   "version": "3.8.1"
  }
 },
 "nbformat": 4,
 "nbformat_minor": 2
}
