{
 "cells": [
  {
   "cell_type": "code",
   "execution_count": 1,
   "metadata": {},
   "outputs": [
    {
     "name": "stderr",
     "output_type": "stream",
     "text": [
      "C:\\Users\\spear_000\\Anaconda3\\lib\\site-packages\\IPython\\core\\interactiveshell.py:3058: DtypeWarning: Columns (3) have mixed types. Specify dtype option on import or set low_memory=False.\n",
      "  interactivity=interactivity, compiler=compiler, result=result)\n"
     ]
    }
   ],
   "source": [
    "import pandas as pd\n",
    "import numpy as np\n",
    "from scipy.stats import linregress\n",
    "import matplotlib.pyplot as plt\n",
    "import os\n",
    "\n",
    "file_path = os.path.join(\"CSVs\",'election_data_clean.csv')\n",
    "elec_data= pd.read_csv(file_path,index_col=0)\n",
    "\n",
    "elections = elec_data.groupby(\"Contest Name\")"
   ]
  },
  {
   "cell_type": "code",
   "execution_count": 2,
   "metadata": {},
   "outputs": [],
   "source": [
    "senate_results = elections.get_group('United States Senator')"
   ]
  },
  {
   "cell_type": "code",
   "execution_count": 7,
   "metadata": {},
   "outputs": [],
   "source": [
    "senate_totals_gb = senate_results.groupby('Candidate')\n",
    "senate_totals=pd.DataFrame(senate_totals_gb['Vote Total'].sum())"
   ]
  },
  {
   "cell_type": "code",
   "execution_count": 4,
   "metadata": {},
   "outputs": [],
   "source": [
    "total_repub = senate_totals_gb['Registered Republicans'].sum()[0]\n",
    "total_dem = senate_totals_gb['Registered Democrats'].sum()[0]\n",
    "total_other = senate_totals_gb['Registered Other'].sum()[0]"
   ]
  },
  {
   "cell_type": "code",
   "execution_count": 12,
   "metadata": {},
   "outputs": [
    {
     "name": "stdout",
     "output_type": "stream",
     "text": [
      "In the 2018 primary, there were 4724472 registered republicans, 5082919 registered democrats, and 3726405 registered independents in Floria\n"
     ]
    },
    {
     "data": {
      "text/html": [
       "<div>\n",
       "<style scoped>\n",
       "    .dataframe tbody tr th:only-of-type {\n",
       "        vertical-align: middle;\n",
       "    }\n",
       "\n",
       "    .dataframe tbody tr th {\n",
       "        vertical-align: top;\n",
       "    }\n",
       "\n",
       "    .dataframe thead th {\n",
       "        text-align: right;\n",
       "    }\n",
       "</style>\n",
       "<table border=\"1\" class=\"dataframe\">\n",
       "  <thead>\n",
       "    <tr style=\"text-align: right;\">\n",
       "      <th></th>\n",
       "      <th>Vote Total</th>\n",
       "    </tr>\n",
       "    <tr>\n",
       "      <th>Candidate</th>\n",
       "      <th></th>\n",
       "    </tr>\n",
       "  </thead>\n",
       "  <tbody>\n",
       "    <tr>\n",
       "      <td>Rick Scott</td>\n",
       "      <td>4089966</td>\n",
       "    </tr>\n",
       "    <tr>\n",
       "      <td>Bill Nelson</td>\n",
       "      <td>4082478</td>\n",
       "    </tr>\n",
       "    <tr>\n",
       "      <td>UnderVotes</td>\n",
       "      <td>91541</td>\n",
       "    </tr>\n",
       "    <tr>\n",
       "      <td>WriteinVotes</td>\n",
       "      <td>24420</td>\n",
       "    </tr>\n",
       "    <tr>\n",
       "      <td>OverVotes</td>\n",
       "      <td>2759</td>\n",
       "    </tr>\n",
       "  </tbody>\n",
       "</table>\n",
       "</div>"
      ],
      "text/plain": [
       "              Vote Total\n",
       "Candidate               \n",
       "Rick Scott       4089966\n",
       "Bill Nelson      4082478\n",
       "UnderVotes         91541\n",
       "WriteinVotes       24420\n",
       "OverVotes           2759"
      ]
     },
     "execution_count": 12,
     "metadata": {},
     "output_type": "execute_result"
    }
   ],
   "source": [
    "print((f\"In the 2018 primary, there were {total_repub} registered republicans,\" \n",
    "      + f\" {total_dem} registered democrats, and {total_other} registered independents in Floria\"))\n",
    "senate_totals.sort_values('Vote Total',ascending = False)"
   ]
  },
  {
   "cell_type": "code",
   "execution_count": null,
   "metadata": {},
   "outputs": [],
   "source": []
  },
  {
   "cell_type": "code",
   "execution_count": null,
   "metadata": {},
   "outputs": [],
   "source": []
  }
 ],
 "metadata": {
  "kernelspec": {
   "display_name": "Python 3",
   "language": "python",
   "name": "python3"
  },
  "language_info": {
   "codemirror_mode": {
    "name": "ipython",
    "version": 3
   },
   "file_extension": ".py",
   "mimetype": "text/x-python",
   "name": "python",
   "nbconvert_exporter": "python",
   "pygments_lexer": "ipython3",
   "version": "3.7.4"
  }
 },
 "nbformat": 4,
 "nbformat_minor": 2
}
