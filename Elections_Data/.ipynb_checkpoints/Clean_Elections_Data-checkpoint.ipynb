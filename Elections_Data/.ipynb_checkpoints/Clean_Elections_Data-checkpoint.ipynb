{
 "cells": [
  {
   "cell_type": "code",
   "execution_count": 14,
   "metadata": {},
   "outputs": [],
   "source": [
    "import pandas as pd\n",
    "import numpy as np\n",
    "import os"
   ]
  },
  {
   "cell_type": "code",
   "execution_count": 15,
   "metadata": {},
   "outputs": [],
   "source": [
    "#Create list of files in \"County_Data\" folder using filenames.txt\n",
    "filenames = []\n",
    "with open(\"filenames.txt\",\"r\") as filenames_txt:\n",
    "    for row in filenames_txt: \n",
    "        mod_row = row.split(\"  \")\n",
    "        mod_row = [x.split(\"\\n\")[0] for x in mod_row]\n",
    "        filenames=filenames + mod_row\n",
    "\n",
    "#Dictionary which holds county abbreviations and all data from county\n",
    "county_dict = {x.split(\"_\")[0]:[] for x in filenames}\n",
    "\n",
    "#Dictionary which holds county abbreviations and filenames\n",
    "file_dict = {x.split(\"_\")[0]:x for x in filenames}"
   ]
  },
  {
   "cell_type": "code",
   "execution_count": 16,
   "metadata": {},
   "outputs": [],
   "source": [
    "#For each county, create at list of lists with county level data.  Store these in a dictionary\n",
    "for county in file_dict:\n",
    "    path = os.path.join(\"County_Data\",file_dict[county])\n",
    "    with open(path,\"r\") as county_txt:\n",
    "        for row in county_txt:  \n",
    "            #The data in \"row\" are tab separated\n",
    "            county_dict[county].append(row.split(\"\\t\"))         \n",
    "\n",
    "#Replace list of lists stored at each county with a dataframe\n",
    "county_dict_df = {x:pd.DataFrame(county_dict[x]) for x in county_dict}"
   ]
  },
  {
   "cell_type": "code",
   "execution_count": 17,
   "metadata": {},
   "outputs": [],
   "source": [
    "#Rename columns and remove extra columns\n",
    "county_dict_df_renamed = {}\n",
    "for county in county_dict:\n",
    "    county_dict_df[county] = county_dict_df[county].rename(columns={0:\"County Code\",\n",
    "                           1:\"County Name\",\n",
    "                           2:\"Election Number\",\n",
    "                           3:\"Election Date\",\n",
    "                           4:\"Election Name\",\n",
    "                           5:\"Unique PCT Identifier\",\n",
    "                           6: \"Precinct Polling Location\",\n",
    "                           7: \"Total Registered\",\n",
    "                           8: \"Total Dems\",\n",
    "                           9: \"Total Repubs\",\n",
    "                           10:\"Total Other\",\n",
    "                           11:\"Contest Name\",\n",
    "                           12:\"District\",\n",
    "                           13:\"Contest Code\",\n",
    "                           14: \"Candidate\",\n",
    "                           15: \"Party\",\n",
    "                           16: \"Candidate Voter ID\",\n",
    "                           17: \"Candidate ID\",\n",
    "                           18: \"Vote Total\"})\n",
    "    county_dict_df[\"Vote Total\"]=[int(x.split(\"\\n\")[0]) for x in county_dict_df[county][\"Vote Total\"]]\n",
    "    county_dict_df_renamed[county]= county_dict_df[county][['County Code',\n",
    "                    'Election Date',\n",
    "                    'Unique PCT Identifier',\n",
    "                    'Precinct Polling Location',\n",
    "                    'Total Registered',\n",
    "                    'Contest Name',\n",
    "                    'District',\n",
    "                    'Contest Code',\n",
    "                    'Candidate',\n",
    "                    'Party',\n",
    "                    'Vote Total']]"
   ]
  },
  {
   "cell_type": "code",
   "execution_count": 18,
   "metadata": {},
   "outputs": [],
   "source": [
    "#Output one csv for each county\n",
    "for county in county_dict:\n",
    "    output_path = os.path.join(\"County_Data_Clean\",f\"{county}_clean.csv\")\n",
    "    county_dict_df_renamed[county].to_csv(output_path)\n",
    "    "
   ]
  },
  {
   "cell_type": "code",
   "execution_count": null,
   "metadata": {},
   "outputs": [],
   "source": []
  },
  {
   "cell_type": "code",
   "execution_count": null,
   "metadata": {},
   "outputs": [],
   "source": []
  },
  {
   "cell_type": "code",
   "execution_count": null,
   "metadata": {},
   "outputs": [],
   "source": []
  },
  {
   "cell_type": "code",
   "execution_count": null,
   "metadata": {},
   "outputs": [],
   "source": []
  }
 ],
 "metadata": {
  "kernelspec": {
   "display_name": "Python 3",
   "language": "python",
   "name": "python3"
  },
  "language_info": {
   "codemirror_mode": {
    "name": "ipython",
    "version": 3
   },
   "file_extension": ".py",
   "mimetype": "text/x-python",
   "name": "python",
   "nbconvert_exporter": "python",
   "pygments_lexer": "ipython3",
   "version": "3.7.4"
  }
 },
 "nbformat": 4,
 "nbformat_minor": 2
}
