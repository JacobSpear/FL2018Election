{
 "cells": [
  {
   "cell_type": "code",
   "execution_count": 12,
   "metadata": {},
   "outputs": [],
   "source": [
    "import pandas as pd\n",
    "import numpy as np\n",
    "import os\n",
    "import seaborn as sns\n",
    "import matplotlib.pyplot as plt"
   ]
  },
  {
   "cell_type": "code",
   "execution_count": 13,
   "metadata": {},
   "outputs": [],
   "source": [
    "#Formatting Functions\n",
    "\n",
    "#Removes commas from integers with >3 digits represented as strings\n",
    "#Example: ('1,456,552' -> 1456552)\n",
    "def comma_del(my_str):\n",
    "    if type(my_str)==int or type(my_str)==float:\n",
    "        return my_str\n",
    "    else:    \n",
    "        my_list = my_str.split(\",\")\n",
    "        output = \"\"\n",
    "        for element in my_list:\n",
    "            output+=element\n",
    "        output = int(output)\n",
    "        return output\n",
    "\n",
    "#Removes leading 0's from string representations of integers\n",
    "#Example: ('0000151' -> 151)\n",
    "def remove_zeros(my_str):\n",
    "    i=0\n",
    "    for char in my_str:\n",
    "        if char==\"0\":\n",
    "            i+=1\n",
    "        if char!=\"0\":\n",
    "            return(my_str[slice(i,len(my_str),1)])\n"
   ]
  },
  {
   "cell_type": "code",
   "execution_count": 14,
   "metadata": {},
   "outputs": [],
   "source": [
    "#Iterates through all csv files in 'County_Data_Clean' and \n",
    "#produces a dictionary containing county abbreviations and file names\n",
    "#Example:   {... ,'SEM':'SEM_Data_Clean.csv', ... }\n",
    "files = os.listdir(\"County_Data_Clean\")\n",
    "counties = [x.split(\"_\")[0] for x in files]\n",
    "file_dict = {counties[i]:files[i] for i in range(len(files))}\n",
    "\n",
    "#Outputs a CSV of county abbreviations\n",
    "pd.DataFrame(counties).to_csv(\"Counties.csv\")\n",
    "\n",
    "#Source: https://stackoverflow.com/questions/3207219/how-do-i-list-all-files-of-a-directory"
   ]
  },
  {
   "cell_type": "code",
   "execution_count": 15,
   "metadata": {},
   "outputs": [],
   "source": [
    "#Imports Voter Registration Data For Precincts\n",
    "precinct_df = pd.read_csv(\"2018gen_precinct.csv\")\n",
    "#Drops blank row\n",
    "precinct_df = precinct_df.drop(5881)"
   ]
  },
  {
   "cell_type": "code",
   "execution_count": 16,
   "metadata": {},
   "outputs": [],
   "source": [
    "#Creates Dictionary of Data Frames\n",
    "#Example: {..., \"SEM\":<data frame with clean Seminole County data>, ...}\n",
    "county_df_dict = {}\n",
    "for county in counties:\n",
    "    path = os.path.join(\"County_Data_Clean\",file_dict[county])\n",
    "    county_df_dict[county] = pd.read_csv(path,index_col=0)"
   ]
  },
  {
   "cell_type": "code",
   "execution_count": 21,
   "metadata": {},
   "outputs": [
    {
     "data": {
      "text/html": [
       "<div>\n",
       "<style scoped>\n",
       "    .dataframe tbody tr th:only-of-type {\n",
       "        vertical-align: middle;\n",
       "    }\n",
       "\n",
       "    .dataframe tbody tr th {\n",
       "        vertical-align: top;\n",
       "    }\n",
       "\n",
       "    .dataframe thead th {\n",
       "        text-align: right;\n",
       "    }\n",
       "</style>\n",
       "<table border=\"1\" class=\"dataframe\">\n",
       "  <thead>\n",
       "    <tr style=\"text-align: right;\">\n",
       "      <th></th>\n",
       "      <th>County Code</th>\n",
       "      <th>Precinct Number</th>\n",
       "      <th>Republican Party of Florida</th>\n",
       "      <th>Florida Democratic Party</th>\n",
       "      <th>Other</th>\n",
       "      <th>Total</th>\n",
       "    </tr>\n",
       "  </thead>\n",
       "  <tbody>\n",
       "    <tr>\n",
       "      <td>0</td>\n",
       "      <td>ALA</td>\n",
       "      <td>1</td>\n",
       "      <td>584</td>\n",
       "      <td>538</td>\n",
       "      <td>287</td>\n",
       "      <td>1,409</td>\n",
       "    </tr>\n",
       "    <tr>\n",
       "      <td>1</td>\n",
       "      <td>ALA</td>\n",
       "      <td>2</td>\n",
       "      <td>739</td>\n",
       "      <td>951</td>\n",
       "      <td>379</td>\n",
       "      <td>2,069</td>\n",
       "    </tr>\n",
       "    <tr>\n",
       "      <td>2</td>\n",
       "      <td>ALA</td>\n",
       "      <td>3</td>\n",
       "      <td>1,626</td>\n",
       "      <td>1,520</td>\n",
       "      <td>961</td>\n",
       "      <td>4,107</td>\n",
       "    </tr>\n",
       "    <tr>\n",
       "      <td>3</td>\n",
       "      <td>ALA</td>\n",
       "      <td>4</td>\n",
       "      <td>1,406</td>\n",
       "      <td>1,040</td>\n",
       "      <td>671</td>\n",
       "      <td>3,117</td>\n",
       "    </tr>\n",
       "    <tr>\n",
       "      <td>4</td>\n",
       "      <td>ALA</td>\n",
       "      <td>5</td>\n",
       "      <td>733</td>\n",
       "      <td>1,552</td>\n",
       "      <td>841</td>\n",
       "      <td>3,126</td>\n",
       "    </tr>\n",
       "    <tr>\n",
       "      <td>...</td>\n",
       "      <td>...</td>\n",
       "      <td>...</td>\n",
       "      <td>...</td>\n",
       "      <td>...</td>\n",
       "      <td>...</td>\n",
       "      <td>...</td>\n",
       "    </tr>\n",
       "    <tr>\n",
       "      <td>5876</td>\n",
       "      <td>WAS</td>\n",
       "      <td>5</td>\n",
       "      <td>729</td>\n",
       "      <td>546</td>\n",
       "      <td>247</td>\n",
       "      <td>1,522</td>\n",
       "    </tr>\n",
       "    <tr>\n",
       "      <td>5877</td>\n",
       "      <td>WAS</td>\n",
       "      <td>6</td>\n",
       "      <td>221</td>\n",
       "      <td>318</td>\n",
       "      <td>85</td>\n",
       "      <td>624</td>\n",
       "    </tr>\n",
       "    <tr>\n",
       "      <td>5878</td>\n",
       "      <td>WAS</td>\n",
       "      <td>7</td>\n",
       "      <td>810</td>\n",
       "      <td>507</td>\n",
       "      <td>226</td>\n",
       "      <td>1,543</td>\n",
       "    </tr>\n",
       "    <tr>\n",
       "      <td>5879</td>\n",
       "      <td>WAS</td>\n",
       "      <td>8</td>\n",
       "      <td>764</td>\n",
       "      <td>696</td>\n",
       "      <td>175</td>\n",
       "      <td>1,635</td>\n",
       "    </tr>\n",
       "    <tr>\n",
       "      <td>5880</td>\n",
       "      <td>WAS</td>\n",
       "      <td>9</td>\n",
       "      <td>550</td>\n",
       "      <td>371</td>\n",
       "      <td>148</td>\n",
       "      <td>1,069</td>\n",
       "    </tr>\n",
       "  </tbody>\n",
       "</table>\n",
       "<p>5881 rows × 6 columns</p>\n",
       "</div>"
      ],
      "text/plain": [
       "     County Code Precinct Number Republican Party of Florida  \\\n",
       "0            ALA               1                         584   \n",
       "1            ALA               2                         739   \n",
       "2            ALA               3                       1,626   \n",
       "3            ALA               4                       1,406   \n",
       "4            ALA               5                         733   \n",
       "...          ...             ...                         ...   \n",
       "5876         WAS               5                         729   \n",
       "5877         WAS               6                         221   \n",
       "5878         WAS               7                         810   \n",
       "5879         WAS               8                         764   \n",
       "5880         WAS               9                         550   \n",
       "\n",
       "     Florida Democratic Party Other  Total  \n",
       "0                         538   287  1,409  \n",
       "1                         951   379  2,069  \n",
       "2                       1,520   961  4,107  \n",
       "3                       1,040   671  3,117  \n",
       "4                       1,552   841  3,126  \n",
       "...                       ...   ...    ...  \n",
       "5876                      546   247  1,522  \n",
       "5877                      318    85    624  \n",
       "5878                      507   226  1,543  \n",
       "5879                      696   175  1,635  \n",
       "5880                      371   148  1,069  \n",
       "\n",
       "[5881 rows x 6 columns]"
      ]
     },
     "execution_count": 21,
     "metadata": {},
     "output_type": "execute_result"
    }
   ],
   "source": [
    "#Removes Leading Zeros from Precinct Data\n",
    "precinct_df['Precinct Number'].map(remove_zeros)\n",
    "precinct_df"
   ]
  },
  {
   "cell_type": "code",
   "execution_count": 22,
   "metadata": {},
   "outputs": [],
   "source": [
    "#Reformats precinct numbers for merge\n",
    "for county in county_df_dict:\n",
    "    county_df_dict[county] = county_df_dict[county].rename(columns = {\"Unique PCT Identifier\":\"Precinct Number\"})\n",
    "    county_df_dict[county]['Precinct Number'] = county_df_dict[county]['Precinct Number'].map(str)\n",
    "    county_df_dict[county]['Precinct Number'] = county_df_dict[county]['Precinct Number'].map(remove_zeros)  "
   ]
  },
  {
   "cell_type": "code",
   "execution_count": 23,
   "metadata": {},
   "outputs": [],
   "source": [
    "#Separates precinct data into a dictionary of data frames.\n",
    "precinct_dict={}\n",
    "for county in counties:\n",
    "    precinct_dict[county]=precinct_df[precinct_df['County Code']==county]"
   ]
  },
  {
   "cell_type": "code",
   "execution_count": 32,
   "metadata": {},
   "outputs": [],
   "source": [
    "#Merges precinct data into elections data for each county.\n",
    "for county in counties:\n",
    "    county_df_dict[county] = pd.merge(county_df_dict[county],precinct_dict[county],\n",
    "                                      on=[\"Precinct Number\",\"County Code\"],\n",
    "                                      how=\"inner\")\n",
    "    \n",
    "    county_df_dict[county] = county_df_dict[county].rename(columns = {\"Republican Party of Florida\":\"Registered Republicans\",\n",
    "                                     \"Florida Democratic Party\":\"Registered Democrats\",\n",
    "                                     \"Other\":\"Registered Other\"})"
   ]
  },
  {
   "cell_type": "code",
   "execution_count": 33,
   "metadata": {},
   "outputs": [],
   "source": [
    "#Re-orders columns and drops redundant columns.\n",
    "for county in counties:\n",
    "    county_df_dict[county]=county_df_dict[county][[\"County Code\",\n",
    "                                \"Election Date\",\n",
    "                                \"Precinct Number\",\n",
    "                                \"Precinct Polling Location\",\n",
    "                                \"Registered Republicans\",\n",
    "                                \"Registered Democrats\",\n",
    "                                \"Registered Other\",\n",
    "                                \"Total Registered\",\n",
    "                                \"Contest Name\",\n",
    "                                \"District\",\n",
    "                                \"Candidate\",\n",
    "                                \"Party\",\n",
    "                                \"Vote Total\"]]"
   ]
  },
  {
   "cell_type": "code",
   "execution_count": 34,
   "metadata": {},
   "outputs": [],
   "source": [
    "#Combines all dataframes into one\n",
    "election_list = [county_df_dict[x] for x in county_df_dict]\n",
    "election_data=pd.concat(election_list,keys=None,ignore_index=True)"
   ]
  },
  {
   "cell_type": "code",
   "execution_count": 35,
   "metadata": {},
   "outputs": [],
   "source": [
    "#Removes commas from string representations of integers greater than 1000, casts to int.\n",
    "for col in ['Registered Republicans','Registered Democrats','Registered Other','Total Registered','Vote Total']:\n",
    "    election_data[col]=[comma_del(x) for x in election_data[col]]"
   ]
  },
  {
   "cell_type": "code",
   "execution_count": 36,
   "metadata": {},
   "outputs": [],
   "source": [
    "#Replaces null values in Total_Registered with sum of Registered voters by party\n",
    "for idx in election_data[election_data['Total Registered'].isnull()].index.tolist():\n",
    "    election_data.loc[idx,'Total Registered']=election_data.loc[idx,'Registered Republicans']+election_data.loc[idx,'Registered Democrats']+election_data.loc[idx,'Registered Other']"
   ]
  },
  {
   "cell_type": "code",
   "execution_count": 37,
   "metadata": {},
   "outputs": [],
   "source": [
    "# Adds a column which combines county abbreviation and precinct number\n",
    "election_data[\"Precinct_Full_ID\"]= election_data[\"County Code\"] + \"--\" + election_data[\"Precinct Number\"].map(str)"
   ]
  },
  {
   "cell_type": "code",
   "execution_count": 39,
   "metadata": {},
   "outputs": [],
   "source": [
    "election_data.to_csv(\"election_data_clean.csv\")"
   ]
  },
  {
   "cell_type": "code",
   "execution_count": 38,
   "metadata": {},
   "outputs": [],
   "source": [
    "election_gb = election_data.groupby(['Contest Name','Candidate'])"
   ]
  },
  {
   "cell_type": "code",
   "execution_count": null,
   "metadata": {},
   "outputs": [],
   "source": [
    "null_counties = []\n",
    "county_gb = election_data.groupby('County Code')\n",
    "counties = list(county_gb.groups.keys())\n",
    "for county in counties:\n",
    "    null_df = county_gb.get_group(county).isnull()\n",
    "    if null_df.sum().sum()==0:\n",
    "        pass\n",
    "    else:\n",
    "        null_counties.append(county)\n",
    "        \n",
    "        "
   ]
  },
  {
   "cell_type": "code",
   "execution_count": null,
   "metadata": {},
   "outputs": [],
   "source": [
    "# for county in null_counties:\n",
    "#     plt.figure()\n",
    "#     sns.heatmap(county_gb.get_group(county).isnull(),cbar=False)\n",
    "#     plt.title(county)"
   ]
  },
  {
   "cell_type": "code",
   "execution_count": null,
   "metadata": {},
   "outputs": [],
   "source": [
    "precinct_df2 = precinct_df.copy()"
   ]
  },
  {
   "cell_type": "code",
   "execution_count": null,
   "metadata": {},
   "outputs": [],
   "source": [
    "precinct_df2[\"Precinct_Full_ID\"]=precinct_df2[\"County Code\"] + \"--\" + precinct_df2[\"Precinct Number\"].map(str)"
   ]
  },
  {
   "cell_type": "code",
   "execution_count": null,
   "metadata": {},
   "outputs": [],
   "source": [
    "#Determines Precincts Missing Voter Registration Data\n",
    "missing_from_precinct_data = []\n",
    "for x in election_data['Precinct_Full_ID'].unique():\n",
    "    if not x in precinct_df2['Precinct_Full_ID'].unique():\n",
    "        missing_from_precinct_data.append(x)          \n",
    "\n",
    "missing_pcts = {}\n",
    "for x in missing_from_precinct_data:\n",
    "    missing_pcts[x] = election_data[election_data['Precinct_Full_ID']==x]\n",
    "\n",
    "#Determines the precincts with votes but not voter registration data\n",
    "#(all other precincts from missing_pcts will be dropped)\n",
    "missing_registration = []\n",
    "for x in lst2:\n",
    "    county = x.split(\"--\")[0]\n",
    "    pct = x.split(\"--\")[1]\n",
    "    vt = round(county_df_dict[county][county_df_dict[county]['Precinct Number']==pct]['Vote Total'].mean(),1)\n",
    "    tr = round(county_df_dict[county][county_df_dict[county]['Precinct Number']==pct]['Total Registered'].mean(),1)\n",
    "    if vt+tr!=0:\n",
    "        missing_registration.append((x,vt,tr))\n"
   ]
  },
  {
   "cell_type": "code",
   "execution_count": null,
   "metadata": {},
   "outputs": [],
   "source": [
    "missing_votes = election_data[election_data['Vote Total'].isnull()]['Precinct_Full_ID'].tolist()"
   ]
  },
  {
   "cell_type": "code",
   "execution_count": 26,
   "metadata": {
    "scrolled": true
   },
   "outputs": [],
   "source": [
    "oka = county_df_dict['OKA']"
   ]
  },
  {
   "cell_type": "code",
   "execution_count": null,
   "metadata": {},
   "outputs": [],
   "source": []
  },
  {
   "cell_type": "code",
   "execution_count": null,
   "metadata": {},
   "outputs": [],
   "source": []
  },
  {
   "cell_type": "code",
   "execution_count": null,
   "metadata": {},
   "outputs": [],
   "source": []
  },
  {
   "cell_type": "code",
   "execution_count": 24,
   "metadata": {},
   "outputs": [],
   "source": [
    "poka = precinct_dict['OKA']\n"
   ]
  },
  {
   "cell_type": "code",
   "execution_count": 29,
   "metadata": {},
   "outputs": [
    {
     "data": {
      "text/html": [
       "<div>\n",
       "<style scoped>\n",
       "    .dataframe tbody tr th:only-of-type {\n",
       "        vertical-align: middle;\n",
       "    }\n",
       "\n",
       "    .dataframe tbody tr th {\n",
       "        vertical-align: top;\n",
       "    }\n",
       "\n",
       "    .dataframe thead th {\n",
       "        text-align: right;\n",
       "    }\n",
       "</style>\n",
       "<table border=\"1\" class=\"dataframe\">\n",
       "  <thead>\n",
       "    <tr style=\"text-align: right;\">\n",
       "      <th></th>\n",
       "      <th>County Code</th>\n",
       "      <th>Election Date</th>\n",
       "      <th>Precinct Number</th>\n",
       "      <th>Precinct Polling Location</th>\n",
       "      <th>Total Registered</th>\n",
       "      <th>Contest Name</th>\n",
       "      <th>District</th>\n",
       "      <th>Contest Code</th>\n",
       "      <th>Candidate</th>\n",
       "      <th>Party</th>\n",
       "      <th>Vote Total</th>\n",
       "    </tr>\n",
       "  </thead>\n",
       "  <tbody>\n",
       "    <tr>\n",
       "      <td>36</td>\n",
       "      <td>OKA</td>\n",
       "      <td>11/06/2018</td>\n",
       "      <td>1</td>\n",
       "      <td>1</td>\n",
       "      <td>2350</td>\n",
       "      <td>State Representative</td>\n",
       "      <td>District 3</td>\n",
       "      <td>260030</td>\n",
       "      <td>Jayer Williamson</td>\n",
       "      <td>REP</td>\n",
       "      <td>1458</td>\n",
       "    </tr>\n",
       "    <tr>\n",
       "      <td>37</td>\n",
       "      <td>OKA</td>\n",
       "      <td>11/06/2018</td>\n",
       "      <td>1</td>\n",
       "      <td>1</td>\n",
       "      <td>2350</td>\n",
       "      <td>State Representative</td>\n",
       "      <td>District 3</td>\n",
       "      <td>260030</td>\n",
       "      <td>Bobbi Osborne</td>\n",
       "      <td>NPA</td>\n",
       "      <td>165</td>\n",
       "    </tr>\n",
       "    <tr>\n",
       "      <td>38</td>\n",
       "      <td>OKA</td>\n",
       "      <td>11/06/2018</td>\n",
       "      <td>1</td>\n",
       "      <td>1</td>\n",
       "      <td>2350</td>\n",
       "      <td>State Representative</td>\n",
       "      <td>District 3</td>\n",
       "      <td>260030</td>\n",
       "      <td>OverVotes</td>\n",
       "      <td></td>\n",
       "      <td>0</td>\n",
       "    </tr>\n",
       "    <tr>\n",
       "      <td>39</td>\n",
       "      <td>OKA</td>\n",
       "      <td>11/06/2018</td>\n",
       "      <td>1</td>\n",
       "      <td>1</td>\n",
       "      <td>2350</td>\n",
       "      <td>State Representative</td>\n",
       "      <td>District 3</td>\n",
       "      <td>260030</td>\n",
       "      <td>UnderVotes</td>\n",
       "      <td></td>\n",
       "      <td>68</td>\n",
       "    </tr>\n",
       "  </tbody>\n",
       "</table>\n",
       "</div>"
      ],
      "text/plain": [
       "   County Code Election Date Precinct Number  Precinct Polling Location  \\\n",
       "36         OKA    11/06/2018               1                          1   \n",
       "37         OKA    11/06/2018               1                          1   \n",
       "38         OKA    11/06/2018               1                          1   \n",
       "39         OKA    11/06/2018               1                          1   \n",
       "\n",
       "    Total Registered          Contest Name     District  Contest Code  \\\n",
       "36              2350  State Representative   District 3        260030   \n",
       "37              2350  State Representative   District 3        260030   \n",
       "38              2350  State Representative   District 3        260030   \n",
       "39              2350  State Representative   District 3        260030   \n",
       "\n",
       "           Candidate Party  Vote Total  \n",
       "36  Jayer Williamson   REP        1458  \n",
       "37     Bobbi Osborne   NPA         165  \n",
       "38         OverVotes                 0  \n",
       "39        UnderVotes                68  "
      ]
     },
     "execution_count": 29,
     "metadata": {},
     "output_type": "execute_result"
    }
   ],
   "source": [
    "doka = oka[oka['District']==' District 3']\n",
    "doka[doka['Precinct Number']==\"1\"]"
   ]
  },
  {
   "cell_type": "code",
   "execution_count": 30,
   "metadata": {},
   "outputs": [],
   "source": []
  },
  {
   "cell_type": "code",
   "execution_count": null,
   "metadata": {},
   "outputs": [],
   "source": []
  },
  {
   "cell_type": "code",
   "execution_count": null,
   "metadata": {},
   "outputs": [],
   "source": []
  }
 ],
 "metadata": {
  "kernelspec": {
   "display_name": "Python 3",
   "language": "python",
   "name": "python3"
  },
  "language_info": {
   "codemirror_mode": {
    "name": "ipython",
    "version": 3
   },
   "file_extension": ".py",
   "mimetype": "text/x-python",
   "name": "python",
   "nbconvert_exporter": "python",
   "pygments_lexer": "ipython3",
   "version": "3.7.4"
  }
 },
 "nbformat": 4,
 "nbformat_minor": 2
}
